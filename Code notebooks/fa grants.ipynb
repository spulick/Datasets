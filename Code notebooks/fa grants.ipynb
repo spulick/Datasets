{
 "cells": [
  {
   "cell_type": "code",
   "execution_count": null,
   "metadata": {},
   "outputs": [],
   "source": [
    "import pandas as pd"
   ]
  },
  {
   "cell_type": "code",
   "execution_count": null,
   "metadata": {},
   "outputs": [],
   "source": [
    "df = pd.read_csv(\"../Working/fa grants.csv\")\n",
    "df.drop(columns=[\"Unnamed: 5\", \"Unnamed: 6\", \"Unnamed: 7\"], inplace=True)\n",
    "df.dropna(inplace=True)"
   ]
  },
  {
   "cell_type": "code",
   "execution_count": null,
   "metadata": {},
   "outputs": [],
   "source": [
    "df[\"LGA\"] = df[\"LGA\"].str.strip()\n",
    "\n",
    "df.replace(\"Gerard Reserve Council Inc\", \"Gerard Community Council Aboriginal Corporation\", inplace=True)"
   ]
  },
  {
   "cell_type": "code",
   "execution_count": null,
   "metadata": {},
   "outputs": [],
   "source": [
    "rotcols = [\"Payment\"] + list(df.Year.unique())\n",
    "rotCols = [\"LGA\"] + rotcols"
   ]
  },
  {
   "cell_type": "code",
   "execution_count": null,
   "metadata": {},
   "outputs": [],
   "source": [
    "rot = pd.DataFrame(columns=rotCols)"
   ]
  },
  {
   "cell_type": "code",
   "execution_count": null,
   "metadata": {},
   "outputs": [],
   "source": [
    "for lga in df.LGA.unique():\n",
    "    sub = df[df[\"LGA\"] == lga]\n",
    "    subrot = sub[[\"Year\", \"Total Early Payment\", \"Total Financial Assistance Grant (inc Early Payment)\"]].transpose().drop(\"Year\").reset_index()\n",
    "    subrot.columns = rotcols\n",
    "    subrot[\"LGA\"] = [lga]*2\n",
    "    \n",
    "    rot = pd.concat([rot, subrot], ignore_index=True)"
   ]
  },
  {
   "cell_type": "code",
   "execution_count": null,
   "metadata": {},
   "outputs": [],
   "source": [
    "rot[\"State\"] = rot[\"LGA\"].apply(lambda lga: df[df.LGA == lga].Jurisdiction.values[0])"
   ]
  },
  {
   "cell_type": "code",
   "execution_count": null,
   "metadata": {},
   "outputs": [],
   "source": [
    "rot = rot[['State', 'LGA', 'Payment', '2017-18', '2018-19', '2019-20', '2020-21', '2021-22',\n",
    "       '2022-23', '2023-24']]"
   ]
  },
  {
   "cell_type": "code",
   "execution_count": null,
   "metadata": {},
   "outputs": [],
   "source": [
    "rot.to_csv(\"../Working/fa grants rot.csv\", index=False)"
   ]
  },
  {
   "cell_type": "markdown",
   "metadata": {},
   "source": [
    "# FA Grants roads/general split"
   ]
  },
  {
   "cell_type": "code",
   "execution_count": null,
   "metadata": {},
   "outputs": [],
   "source": [
    "import camelot"
   ]
  },
  {
   "cell_type": "code",
   "execution_count": null,
   "metadata": {},
   "outputs": [],
   "source": [
    "lgapdf = camelot.read_pdf(\"https://www.infrastructure.gov.au/sites/default/files/documents/NT%20Territory%20Summary%202023-24.pdf\")"
   ]
  },
  {
   "cell_type": "code",
   "execution_count": null,
   "metadata": {},
   "outputs": [],
   "source": []
  },
  {
   "cell_type": "code",
   "execution_count": null,
   "metadata": {},
   "outputs": [],
   "source": []
  }
 ],
 "metadata": {
  "kernelspec": {
   "display_name": "Python 3",
   "language": "python",
   "name": "python3"
  },
  "language_info": {
   "codemirror_mode": {
    "name": "ipython",
    "version": 3
   },
   "file_extension": ".py",
   "mimetype": "text/x-python",
   "name": "python",
   "nbconvert_exporter": "python",
   "pygments_lexer": "ipython3",
   "version": "3.10.13"
  }
 },
 "nbformat": 4,
 "nbformat_minor": 2
}
